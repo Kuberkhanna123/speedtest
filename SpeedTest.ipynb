{
  "nbformat": 4,
  "nbformat_minor": 0,
  "metadata": {
    "colab": {
      "name": "SpeedTest",
      "provenance": []
    },
    "kernelspec": {
      "name": "python3",
      "display_name": "Python 3"
    }
  },
  "cells": [
    {
      "cell_type": "code",
      "metadata": {
        "id": "PR2iJP06S11N",
        "colab_type": "code",
        "colab": {
          "base_uri": "https://localhost:8080/",
          "height": 107
        },
        "outputId": "140dfe73-32de-48c8-e214-d230282051ce"
      },
      "source": [
        "!pip install speedtest-cli"
      ],
      "execution_count": null,
      "outputs": [
        {
          "output_type": "stream",
          "text": [
            "Collecting speedtest-cli\n",
            "  Downloading https://files.pythonhosted.org/packages/c4/44/dfebd38c5fb35aae0a7279e2a3ffe33ca65edb449a586b93addc8d409a71/speedtest_cli-2.1.2-py2.py3-none-any.whl\n",
            "Installing collected packages: speedtest-cli\n",
            "Successfully installed speedtest-cli-2.1.2\n"
          ],
          "name": "stdout"
        }
      ]
    },
    {
      "cell_type": "code",
      "metadata": {
        "id": "0_ki6MWS0KbA",
        "colab_type": "code",
        "colab": {
          "base_uri": "https://localhost:8080/",
          "height": 399
        },
        "outputId": "957e9d9c-a615-4d43-a230-b301d9f17930"
      },
      "source": [
        "import speedtest\n",
        "\n",
        "\n",
        "def test():\n",
        "    s = speedtest.Speedtest()\n",
        "    s.get_servers()\n",
        "    s.get_best_server()\n",
        "    s.download()\n",
        "    s.upload()\n",
        "    res = s.results.dict()\n",
        "    return res[\"download\"], res[\"upload\"], res[\"ping\"]\n",
        "\n",
        "\n",
        "def main():\n",
        "    # write to csv\n",
        "    with open('file.csv', 'w') as f:\n",
        "        f.write('download,upload,ping\\n')\n",
        "        for i in range(3):\n",
        "            print('Making test #{}'.format(i+1))\n",
        "            d, u, p = test()\n",
        "            f.write('{},{},{}\\n'.format(d, u, p))\n",
        "    with open('file.txt', 'w') as f:\n",
        "        for i in range(3):\n",
        "            print('Making test #{}'.format(i+1))\n",
        "            d, u, p = test()\n",
        "            f.write('Test #{}\\n'.format(i+1))\n",
        "            f.write('Download: {:.2f} Kb/s\\n'.format(d / 1024))\n",
        "            f.write('Upload: {:.2f} Kb/s\\n'.format(u / 1024))\n",
        "            f.write('Ping: {}\\n'.format(p))\n",
        "    for i in range(3):\n",
        "        d, u, p = test()\n",
        "        print('Test #{}\\n'.format(i+1))\n",
        "        print('Download: {:.2f} Kb/s\\n'.format(d / 1024))\n",
        "        print('Upload: {:.2f} Kb/s\\n'.format(u / 1024))\n",
        "        print('Ping: {}\\n'.format(p))\n",
        "\n",
        "\n",
        "if __name__ == '__main__':\n",
        "    main()"
      ],
      "execution_count": null,
      "outputs": [
        {
          "output_type": "stream",
          "text": [
            "Making test #1\n",
            "Making test #2\n",
            "Making test #3\n",
            "Making test #1\n",
            "Making test #2\n",
            "Making test #3\n",
            "Test #1\n",
            "\n",
            "Download: 1280584.32 Kb/s\n",
            "\n",
            "Upload: 614240.92 Kb/s\n",
            "\n",
            "Ping: 12.973\n",
            "\n",
            "Test #2\n",
            "\n",
            "Download: 1268370.41 Kb/s\n",
            "\n",
            "Upload: 528741.49 Kb/s\n",
            "\n",
            "Ping: 13.294\n",
            "\n"
          ],
          "name": "stdout"
        }
      ]
    },
    {
      "cell_type": "code",
      "metadata": {
        "id": "xl8nJonl6DzF",
        "colab_type": "code",
        "colab": {
          "base_uri": "https://localhost:8080/",
          "height": 193
        },
        "outputId": "a088797e-c026-42cf-f77c-a23b49dd53d8"
      },
      "source": [
        "pip install spacexpython "
      ],
      "execution_count": null,
      "outputs": [
        {
          "output_type": "stream",
          "text": [
            "Collecting spacexpython\n",
            "  Downloading https://files.pythonhosted.org/packages/1a/18/3bb21f4585643e6f82df26c9e791935fa500f84578b73b74279d50deabc1/spacexPython-1.0.1-py3-none-any.whl\n",
            "Requirement already satisfied: requests in /usr/local/lib/python3.6/dist-packages (from spacexpython) (2.21.0)\n",
            "Requirement already satisfied: certifi>=2017.4.17 in /usr/local/lib/python3.6/dist-packages (from requests->spacexpython) (2020.4.5.1)\n",
            "Requirement already satisfied: chardet<3.1.0,>=3.0.2 in /usr/local/lib/python3.6/dist-packages (from requests->spacexpython) (3.0.4)\n",
            "Requirement already satisfied: idna<2.9,>=2.5 in /usr/local/lib/python3.6/dist-packages (from requests->spacexpython) (2.8)\n",
            "Requirement already satisfied: urllib3<1.25,>=1.21.1 in /usr/local/lib/python3.6/dist-packages (from requests->spacexpython) (1.24.3)\n",
            "Installing collected packages: spacexpython\n",
            "\u001b[31mERROR: Invalid script entry point: <ExportEntry spacex-python = spacexpython:None []> for req: spacexpython - A callable suffix is required. Cf https://packaging.python.org/en/latest/distributing.html#console-scripts for more information.\u001b[0m\n"
          ],
          "name": "stdout"
        }
      ]
    },
    {
      "cell_type": "code",
      "metadata": {
        "id": "tlAlTLnZ6PFM",
        "colab_type": "code",
        "colab": {
          "base_uri": "https://localhost:8080/",
          "height": 461
        },
        "outputId": "8473b0ea-8464-4598-90aa-8f5568774ec9"
      },
      "source": [
        "import spacexpython\n",
        "\n",
        "rocket_data = spacexpython.rockets.falconHeavy()\n",
        "print(rocket_data)"
      ],
      "execution_count": null,
      "outputs": [
        {
          "output_type": "error",
          "ename": "ModuleNotFoundError",
          "evalue": "ignored",
          "traceback": [
            "\u001b[0;31m---------------------------------------------------------------------------\u001b[0m",
            "\u001b[0;31mModuleNotFoundError\u001b[0m                       Traceback (most recent call last)",
            "\u001b[0;32m<ipython-input-2-f3238744be10>\u001b[0m in \u001b[0;36m<module>\u001b[0;34m()\u001b[0m\n\u001b[0;32m----> 1\u001b[0;31m \u001b[0;32mimport\u001b[0m \u001b[0mspacexpython\u001b[0m\u001b[0;34m\u001b[0m\u001b[0;34m\u001b[0m\u001b[0m\n\u001b[0m\u001b[1;32m      2\u001b[0m \u001b[0;34m\u001b[0m\u001b[0m\n\u001b[1;32m      3\u001b[0m \u001b[0mrocket_data\u001b[0m \u001b[0;34m=\u001b[0m \u001b[0mspacexpython\u001b[0m\u001b[0;34m.\u001b[0m\u001b[0mrockets\u001b[0m\u001b[0;34m.\u001b[0m\u001b[0mfalconHeavy\u001b[0m\u001b[0;34m(\u001b[0m\u001b[0;34m)\u001b[0m\u001b[0;34m\u001b[0m\u001b[0;34m\u001b[0m\u001b[0m\n\u001b[1;32m      4\u001b[0m \u001b[0mprint\u001b[0m\u001b[0;34m(\u001b[0m\u001b[0mrocket_data\u001b[0m\u001b[0;34m)\u001b[0m\u001b[0;34m\u001b[0m\u001b[0;34m\u001b[0m\u001b[0m\n",
            "\u001b[0;32m/usr/local/lib/python3.6/dist-packages/spacexpython/__init__.py\u001b[0m in \u001b[0;36m<module>\u001b[0;34m()\u001b[0m\n\u001b[1;32m      2\u001b[0m \u001b[0;34m\u001b[0m\u001b[0m\n\u001b[1;32m      3\u001b[0m \u001b[0;34m\u001b[0m\u001b[0m\n\u001b[0;32m----> 4\u001b[0;31m \u001b[0;32mimport\u001b[0m \u001b[0mlaunches\u001b[0m\u001b[0;34m\u001b[0m\u001b[0;34m\u001b[0m\u001b[0m\n\u001b[0m\u001b[1;32m      5\u001b[0m \u001b[0;32mimport\u001b[0m \u001b[0mrockets\u001b[0m\u001b[0;34m\u001b[0m\u001b[0;34m\u001b[0m\u001b[0m\n",
            "\u001b[0;31mModuleNotFoundError\u001b[0m: No module named 'launches'",
            "",
            "\u001b[0;31m---------------------------------------------------------------------------\u001b[0;32m\nNOTE: If your import is failing due to a missing package, you can\nmanually install dependencies using either !pip or !apt.\n\nTo view examples of installing some common dependencies, click the\n\"Open Examples\" button below.\n\u001b[0;31m---------------------------------------------------------------------------\u001b[0m\n"
          ]
        }
      ]
    }
  ]
}